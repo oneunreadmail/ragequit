{
 "cells": [
  {
   "cell_type": "code",
   "execution_count": 167,
   "metadata": {
    "collapsed": false,
    "deletable": true,
    "editable": true
   },
   "outputs": [],
   "source": [
    "%matplotlib inline\n",
    "import math\n",
    "import csv\n",
    "import pandas as pd\n",
    "import numpy as np\n",
    "import seaborn as sns\n",
    "import matplotlib.pyplot as plt\n",
    "from sklearn.cross_validation import train_test_split\n",
    "from sklearn import model_selection, ensemble\n",
    "from sklearn.metrics import accuracy_score, log_loss\n",
    "import xgboost as xgb\n",
    "\n"
   ]
  },
  {
   "cell_type": "code",
   "execution_count": 276,
   "metadata": {
    "collapsed": false
   },
   "outputs": [],
   "source": [
    "# функция на работу с уже полученными вероятностями\n",
    "# пока не в деле, но я думаю, что их хитрым образом можно как-то потрогать и улучшить логлосс\n",
    "def expand(array, k=0):\n",
    "    k = np.array(k).reshape((-1, 1))\n",
    "    new = (array - 0.5) * (1 + k) + 0.5\n",
    "    return [i for i in new]"
   ]
  },
  {
   "cell_type": "code",
   "execution_count": null,
   "metadata": {
    "collapsed": true
   },
   "outputs": [],
   "source": []
  },
  {
   "cell_type": "code",
   "execution_count": 512,
   "metadata": {
    "collapsed": false,
    "deletable": true,
    "editable": true
   },
   "outputs": [],
   "source": [
    "# класс с нашими моделями\n",
    "# сразу при вызове забирает данные из глобальных x_test, t_train и y_train\n",
    "# учитывает только колонки из листа params (локальный, обязательный)\n",
    "# бьет их на части из листа split (локальный, необязательный)\n",
    "# сразу все фитует и даже считает y_test\n",
    "\n",
    "class ML():\n",
    "    model = None\n",
    "    errors = None\n",
    "    log_loss = None\n",
    "    data = []\n",
    "    \n",
    "    \n",
    "    def __init__(self, model, params, split=None):\n",
    "        self.params = params\n",
    "        self.model = model\n",
    "        self.split = split\n",
    "        self.form()\n",
    "        self.fit()\n",
    "\n",
    "    \n",
    "    def form(self):\n",
    "        from operator import and_\n",
    "        from functools import reduce\n",
    "        \n",
    "        # над этими строчками я так потел, что пахнуть должно до сих пор\n",
    "        # говнокод, впрочем, вышел знатный\n",
    "        \n",
    "        if self.split:\n",
    "            x_y_train_feed = pd.concat([x_train, pd.DataFrame(y_train, columns=[\"returned\"])], axis=1)\n",
    "            for i in range(2**len(self.split)):\n",
    "                a = reduce(and_, \n",
    "                           [x_y_train_feed[self.split[j]] == bool(i & (2**j)) for j in range(len(self.split))])\n",
    "                b = reduce(and_, \n",
    "                           [x_test[self.split[j]] == bool(i & (2**j)) for j in range(len(self.split))])\n",
    "                self.data.append({\"x_train\": x_y_train_feed[a][self.params],\n",
    "                                  \"y_train\": list(x_y_train_feed[a].returned),\n",
    "                                  \"x_test\": x_test[b][self.params]})\n",
    "        else:\n",
    "            self.data = [{\"x_train\": x_train[self.params],\n",
    "                          \"y_train\": list(y_train.returned),\n",
    "                          \"x_test\": x_test[self.params]}]\n",
    "    \n",
    "    def fit(self):\n",
    "        y1v, y2v, y1p, y2p, y1r, y2r = [], [], [], [], [], []\n",
    "        out, xtr = [], []\n",
    "        for dataset in self.data:\n",
    "            x1, x2, y1, y2 = train_test_split(dataset[\"x_train\"], dataset[\"y_train\"], \n",
    "                                                              test_size = 0.3, random_state=42)\n",
    "            xt = dataset[\"x_test\"]\n",
    "            \n",
    "            self.model.fit(x1, y1)\n",
    "            \n",
    "            # values\n",
    "            y1v.append(self.model.predict(x1))\n",
    "            y2v.append(self.model.predict(x2))\n",
    "            # probabilities\n",
    "            y1p.append(self.model.predict_proba(x1))\n",
    "            y2p.append(self.model.predict_proba(x2))\n",
    "            # true values\n",
    "            y1r.append(np.array(y1))\n",
    "            y2r.append(np.array(y2))\n",
    "            #\n",
    "            out.append(self.model.predict_proba(xt))\n",
    "            xtr.append(xt)\n",
    "        \n",
    "        y1v = np.concatenate(y1v)\n",
    "        y2v = np.concatenate(y2v)\n",
    "        y1p = np.concatenate(y1p)\n",
    "        y2p = np.concatenate(y2p)\n",
    "        y1r = np.concatenate(y1r)\n",
    "        y2r = np.concatenate(y2r)\n",
    "        \n",
    "        out = np.concatenate(out)\n",
    "        #pprint(xtr)\n",
    "        #pprint(out)\n",
    "        #pprint(y1r)\n",
    "        self.errors = np.mean(y1r != y1v), np.mean(y2r != y2v)\n",
    "        self.log_loss = log_loss(y1r, y1p, eps=1e-15), log_loss(y2r, y2p, eps=1e-15)\n",
    "                              \n",
    "        importances = self.model.feature_importances_\n",
    "    \n",
    "    def dump(self, data):\n",
    "        a = self.model.predict_proba(data)\n",
    "        np.savetxt(\"data/y_test.csv\", a[:,1], fmt='%10.5f')\n",
    "\n",
    "#GB = ML(ensemble.GradientBoostingClassifier(n_estimators=100, random_state=42), \n",
    "#        params, \n",
    "#        split=[\"zeroTotalScore\"])"
   ]
  },
  {
   "cell_type": "code",
   "execution_count": 91,
   "metadata": {
    "collapsed": false,
    "deletable": true,
    "editable": true
   },
   "outputs": [],
   "source": [
    "xytte = pd.read_csv(\"data/xytte.csv\")\n",
    "\n",
    "####################### ВНИМАНИЕ #######################\n",
    "# здесь трейн это которые в задаче трейн, с ответами\n",
    "# тест без ответов\n",
    "# но дальше в алгоритмах трейн будет разбиваться на два подсета\n",
    "# которые будут у меня называться x1-y1 и x2-y2, а по смыслу как раз трейн и тест\n",
    "# надо не перепутать\n",
    "\n",
    "x_train = xytte[xytte.returned == xytte.returned].reset_index(drop=True).drop(\"returned\", axis=1)\n",
    "y_train = xytte[xytte.returned == xytte.returned].reset_index(drop=True)[[\"returned\"]]\n",
    "x_test  = xytte[xytte.returned != xytte.returned].reset_index(drop=True).drop(\"returned\", axis=1)"
   ]
  },
  {
   "cell_type": "code",
   "execution_count": 92,
   "metadata": {
    "collapsed": false,
    "deletable": true,
    "editable": true
   },
   "outputs": [],
   "source": [
    "# проверяем, что нигде не налажали\n",
    "# читаем из файла оригинальные данные\n",
    "\n",
    "x_test_ref = pd.read_csv(\"data/x_test.csv\", sep=\";\", dtype=np.float32)\n",
    "x_train_ref = pd.read_csv(\"data/x_train.csv\", sep=\";\", dtype=np.float32)\n",
    "y_train_ref = pd.read_csv(\"data/y_train.csv\", sep=\";\", dtype=np.float32, header=None, names=[\"returned\"])\n",
    "\n",
    "# заводим функцию на сравнение таблиц\n",
    "\n",
    "def df_equal(df1, df2):\n",
    "    if list(df1.columns) != list(df2.columns): \n",
    "        print(\"Mismatch columns:\")\n",
    "        print(\"df1: \", list(df1.columns))\n",
    "        print(\"df2: \", list(df2.columns))\n",
    "        return False\n",
    "    if list(df1.index) != list(df2.index): \n",
    "        print(\"Mismatch index:\")\n",
    "        print(\"df1: \", list(df1.columns)[0], \":\", list(df1.columns)[-1])\n",
    "        print(\"df2: \", list(df2.columns)[0], \":\", list(df2.columns)[-1])\n",
    "        return False\n",
    "    \n",
    "    ne_stacked = (df1 != df2).stack()\n",
    "    changed = ne_stacked[ne_stacked]\n",
    "    changed.index.names = ['id', 'col']\n",
    "\n",
    "    difference_locations = np.where(df1 != df2)\n",
    "    changed_from = df1.values[difference_locations]\n",
    "    changed_to = df2.values[difference_locations]\n",
    "    diff = pd.DataFrame({'from': changed_from, 'to': changed_to}, index=changed.index)\n",
    "    return not diff[diff[\"from\"] - diff[\"to\"] > 0.000001].count()[0]\n",
    "\n",
    "# ассертим наши таблицы\n",
    "\n",
    "assert(df_equal(x_test[x_test_ref.columns], x_test_ref))\n",
    "assert(df_equal(x_train[x_train_ref.columns], x_train_ref))\n",
    "assert(df_equal(y_train, y_train_ref))"
   ]
  },
  {
   "cell_type": "code",
   "execution_count": 332,
   "metadata": {
    "collapsed": false,
    "deletable": true,
    "editable": true
   },
   "outputs": [],
   "source": [
    "params_all = list(x_train.columns)\n",
    "\n",
    "params_orig = [\n",
    "'maxPlayerLevel',\n",
    "'numberOfAttemptedLevels',\n",
    "'attemptsOnTheHighestLevel',\n",
    "'totalNumOfAttempts',\n",
    "'averageNumOfTurnsPerCompletedLevel',\n",
    "'numberOfBoostersUsed',\n",
    "'fractionOfUsefullBoosters',\n",
    "'totalScore',\n",
    "'totalBonusScore',\n",
    "'totalStarsCount',\n",
    "'numberOfDaysActuallyPlayed',\n",
    "]\n",
    "     \n",
    "params_mod = [\n",
    "#'attemptsOnTheHighestLevel_dvd',\n",
    "'attemptsOnTheHighestLevel_ln',\n",
    "'attemptsPerDay',\n",
    "'averageNumOfTurnsPerCompletedLevel_dvd',\n",
    "'maxPlayerLevel_ln',\n",
    "'numberOfAttemptedLevels_dvd',\n",
    "#'numberOfBoostersUsed_dvd',\n",
    "'numberOfBoostersUsed_dvd_ln',\n",
    "#'numberOfBoostersUsed_ln',\n",
    "'numberOfDaysActuallyPlayed_ln',\n",
    "'totalBonusScore_dvd',\n",
    "'totalNumOfAttempts_ln',\n",
    "#'totalScore_ln',\n",
    "'totalScore_ln_dvd',\n",
    "#'totalStarsCount_dvd',\n",
    "'totalStarsCount_dvd_ln',\n",
    "#'totalStarsCount_ln',\n",
    "]\n",
    "\n",
    "params_bool = [\n",
    "'allAttemptsOnTheHighestLevel',\n",
    "'attLevelsMoreThanMaxLevel',\n",
    "'doReturnOnLowerLevels',\n",
    "'zeroTotalScore',\n",
    "'zeroTurnsPerCompletedLevel'\n",
    "]\n",
    "\n",
    "params_orig_norm = [\n",
    "'attemptsOnTheHighestLevel_norm',\n",
    "'attemptsPerDay_norm',\n",
    "#'numberOfBoostersUsed_norm',\n",
    "#'maxPlayerLevel_norm',\n",
    "'fractionOfUsefullBoosters_norm',\n",
    "#'averageNumOfTurnsPerCompletedLevel_norm',\n",
    "'numberOfDaysActuallyPlayed_norm',\n",
    "'totalNumOfAttempts_norm',\n",
    "'totalBonusScore_norm',\n",
    "'totalScore_norm',\n",
    "'totalStarsCount_norm',\n",
    "]\n",
    "\n",
    "params_mod_norm = [\n",
    "'attemptsOnTheHighestLevel_dvd_norm',\n",
    "#'attemptsOnTheHighestLevel_ln_norm',\n",
    "'averageNumOfTurnsPerCompletedLevel_dvd_norm',\n",
    "'maxPlayerLevel_ln_norm',\n",
    "'numberOfAttemptedLevels_dvd_norm',\n",
    "#'numberOfAttemptedLevels_norm',\n",
    "'numberOfBoostersUsed_dvd_ln_norm',\n",
    "#'numberOfBoostersUsed_dvd_norm',\n",
    "#'numberOfBoostersUsed_ln_norm',\n",
    "'numberOfDaysActuallyPlayed_ln_norm',\n",
    "'totalBonusScore_dvd_norm',\n",
    "'totalNumOfAttempts_ln_norm',\n",
    "'totalScore_ln_dvd_norm',\n",
    "#'totalScore_ln_norm',\n",
    "'totalStarsCount_dvd_ln_norm',\n",
    "#'totalStarsCount_dvd_norm',\n",
    "'totalStarsCount_ln_norm',\n",
    "]\n",
    "\n",
    "params_rf_sorted = [\n",
    "'numberOfDaysActuallyPlayed_ln',\n",
    "'totalNumOfAttempts',\n",
    "'totalBonusScore_dvd_norm',\n",
    "'averageNumOfTurnsPerCompletedLevel',\n",
    "'totalScore_ln_dvd',\n",
    "'averageNumOfTurnsPerCompletedLevel_dvd',\n",
    "'maxPlayerLevel_ln_norm',\n",
    "'attemptsOnTheHighestLevel_dvd_norm',\n",
    "'totalStarsCount_dvd_norm',\n",
    "'attemptsPerDay_norm',\n",
    "'numberOfBoostersUsed_dvd_norm',\n",
    "'fractionOfUsefullBoosters_norm',\n",
    "'numberOfAttemptedLevels_dvd_norm',\n",
    "'doReturnOnLowerLevels',\n",
    "'attLevelsMoreThanMaxLevel',\n",
    "'allAttemptsOnTheHighestLevel',\n",
    "'zeroTotalScore',\n",
    "'zeroTurnsPerCompletedLevel'\n",
    "]"
   ]
  },
  {
   "cell_type": "code",
   "execution_count": 333,
   "metadata": {
    "collapsed": false
   },
   "outputs": [],
   "source": [
    "#params = params_orig + [\"doReturnOnLowerLevels\"]\n",
    "#params = params_mod_norm + params_bool\n",
    "#params = params_bool\n",
    "#params = params_bool + params_orig\n",
    "#params = params_all\n",
    "params = params_rf_sorted\n",
    "#params"
   ]
  },
  {
   "cell_type": "code",
   "execution_count": 335,
   "metadata": {
    "collapsed": false,
    "deletable": true,
    "editable": true
   },
   "outputs": [],
   "source": [
    "x_train_feed = x_train[params]\n",
    "x_test_feed = x_test[params]\n",
    "y_train_feed = list(y_train.returned)\n",
    "#y_test_feed = list(y_test)\n",
    "\n",
    "x1, x2, y1, y2 = train_test_split(x_train_feed, y_train_feed, test_size = 0.3, random_state=42)\n",
    "\n",
    "assert(set(list(x_train_feed.columns)) == set(list(x_test_feed.columns)))\n",
    "assert(set(list(x1.columns)) == set(list(x2.columns)))\n",
    "assert(type(y1) == list)\n",
    "assert(type(y2) == list)\n",
    "assert(len(y1) == len(x1.index))\n",
    "assert(len(y2) == len(x2.index))\n",
    "\n",
    "#list(x1.columns), list(x2.columns) "
   ]
  },
  {
   "cell_type": "code",
   "execution_count": 503,
   "metadata": {
    "collapsed": false,
    "deletable": true,
    "editable": true
   },
   "outputs": [],
   "source": [
    "RF = ML(ensemble.RandomForestClassifier(n_estimators=600, max_features=10, random_state=42),\n",
    "        params,\n",
    "        split=None)"
   ]
  },
  {
   "cell_type": "code",
   "execution_count": 504,
   "metadata": {
    "collapsed": false
   },
   "outputs": [
    {
     "name": "stdout",
     "output_type": "stream",
     "text": [
      "(0.11290972152633583, 0.46088576846588436)\n"
     ]
    }
   ],
   "source": [
    "print(RF.log_loss)"
   ]
  },
  {
   "cell_type": "code",
   "execution_count": 513,
   "metadata": {
    "collapsed": false
   },
   "outputs": [],
   "source": [
    "GB = ML(ensemble.GradientBoostingClassifier(n_estimators=100, random_state=42), \n",
    "        params, \n",
    "        split=[\"zeroTotalScore\"])"
   ]
  },
  {
   "cell_type": "code",
   "execution_count": 514,
   "metadata": {
    "collapsed": false
   },
   "outputs": [
    {
     "name": "stdout",
     "output_type": "stream",
     "text": [
      "(0.36354558301309009, 0.38184434588807786)\n"
     ]
    }
   ],
   "source": [
    "print(GB.log_loss)"
   ]
  },
  {
   "cell_type": "code",
   "execution_count": 508,
   "metadata": {
    "collapsed": false
   },
   "outputs": [],
   "source": [
    "XGB = ML(xgb.XGBClassifier(),\n",
    "        params,\n",
    "        split=[\"zeroTotalScore\"])"
   ]
  },
  {
   "cell_type": "code",
   "execution_count": 509,
   "metadata": {
    "collapsed": false
   },
   "outputs": [
    {
     "name": "stdout",
     "output_type": "stream",
     "text": [
      "(0.36585039983917783, 0.38018562523907151)\n"
     ]
    }
   ],
   "source": [
    "print(XGB.log_loss)\n"
   ]
  },
  {
   "cell_type": "code",
   "execution_count": 326,
   "metadata": {
    "collapsed": false,
    "deletable": true,
    "editable": true
   },
   "outputs": [],
   "source": [
    "a = XGB.dump(x_test_feed)"
   ]
  },
  {
   "cell_type": "code",
   "execution_count": 342,
   "metadata": {
    "collapsed": false
   },
   "outputs": [
    {
     "name": "stdout",
     "output_type": "stream",
     "text": [
      " 1. feature 'numberOfDaysActuallyPlayed_ln' (0.2353)\n",
      " 2. feature 'totalNumOfAttempts' (0.1509)\n",
      " 3. feature 'maxPlayerLevel_ln_norm' (0.0767)\n",
      " 4. feature 'totalBonusScore_dvd_norm' (0.0745)\n",
      " 5. feature 'totalScore_ln_dvd' (0.0713)\n",
      " 6. feature 'averageNumOfTurnsPerCompletedLevel' (0.0690)\n",
      " 7. feature 'totalStarsCount_dvd_norm' (0.0643)\n",
      " 8. feature 'averageNumOfTurnsPerCompletedLevel_dvd' (0.0551)\n",
      " 9. feature 'numberOfBoostersUsed_dvd_norm' (0.0538)\n",
      "10. feature 'attemptsOnTheHighestLevel_dvd_norm' (0.0511)\n",
      "11. feature 'attemptsPerDay_norm' (0.0424)\n",
      "12. feature 'fractionOfUsefullBoosters_norm' (0.0313)\n",
      "13. feature 'numberOfAttemptedLevels_dvd_norm' (0.0176)\n",
      "14. feature 'doReturnOnLowerLevels' (0.0052)\n",
      "15. feature 'attLevelsMoreThanMaxLevel' (0.0011)\n",
      "16. feature 'allAttemptsOnTheHighestLevel' (0.0002)\n",
      "17. feature 'zeroTotalScore' (0.0001)\n",
      "18. feature 'zeroTurnsPerCompletedLevel' (0.0001)\n"
     ]
    }
   ],
   "source": [
    "importances = RF.model.feature_importances_\n",
    "indices = np.argsort(importances)[::-1]\n",
    "a, b = [], []\n",
    "for f, idx in enumerate(indices):\n",
    "    print(\"{:2d}. feature '{:5s}' ({:.4f})\".format(f + 1, params[idx], importances[idx]))\n",
    "    a.append(params[idx])\n",
    "    b.append(importances[idx])"
   ]
  },
  {
   "cell_type": "code",
   "execution_count": 350,
   "metadata": {
    "collapsed": false
   },
   "outputs": [
    {
     "data": {
      "image/png": "[encoded data removed]",
      "text/plain": [
       "<matplotlib.figure.Figure at 0x7f7822d62a20>"
      ]
     },
     "metadata": {},
     "output_type": "display_data"
    }
   ],
   "source": [
    "b_log = (-np.log10(b) * 100).astype(int)\n",
    "#len(b_log)\n",
    "g = sns.barplot(x=a, y=b)\n",
    "for item in g.get_xticklabels():\n",
    "    item.set_rotation(270)\n",
    "#plt.bar(len(b_log), list(b_log))\n",
    "#plt.xticks(len(a), a, rotation='vertical')"
   ]
  },
  {
   "cell_type": "code",
   "execution_count": null,
   "metadata": {
    "collapsed": false,
    "deletable": true,
    "editable": true
   },
   "outputs": [],
   "source": []
  },
  {
   "cell_type": "code",
   "execution_count": null,
   "metadata": {
    "collapsed": false,
    "deletable": true,
    "editable": true
   },
   "outputs": [],
   "source": []
  },
  {
   "cell_type": "code",
   "execution_count": null,
   "metadata": {
    "collapsed": false,
    "deletable": true,
    "editable": true
   },
   "outputs": [],
   "source": []
  },
  {
   "cell_type": "code",
   "execution_count": null,
   "metadata": {
    "collapsed": false
   },
   "outputs": [],
   "source": []
  },
  {
   "cell_type": "code",
   "execution_count": null,
   "metadata": {
    "collapsed": false
   },
   "outputs": [],
   "source": []
  },
  {
   "cell_type": "code",
   "execution_count": null,
   "metadata": {
    "collapsed": false
   },
   "outputs": [],
   "source": []
  },
  {
   "cell_type": "code",
   "execution_count": null,
   "metadata": {
    "collapsed": false
   },
   "outputs": [],
   "source": []
  },
  {
   "cell_type": "code",
   "execution_count": null,
   "metadata": {
    "collapsed": false
   },
   "outputs": [],
   "source": []
  },
  {
   "cell_type": "code",
   "execution_count": null,
   "metadata": {
    "collapsed": false
   },
   "outputs": [],
   "source": []
  },
  {
   "cell_type": "code",
   "execution_count": null,
   "metadata": {
    "collapsed": false
   },
   "outputs": [],
   "source": []
  },
  {
   "cell_type": "code",
   "execution_count": null,
   "metadata": {
    "collapsed": true
   },
   "outputs": [],
   "source": []
  }
 ],
 "metadata": {
  "kernelspec": {
   "display_name": "Python 3",
   "language": "python",
   "name": "python3"
  },
  "language_info": {
   "codemirror_mode": {
    "name": "ipython",
    "version": 3
   },
   "file_extension": ".py",
   "mimetype": "text/x-python",
   "name": "python",
   "nbconvert_exporter": "python",
   "pygments_lexer": "ipython3",
   "version": "3.5.2"
  }
 },
 "nbformat": 4,
 "nbformat_minor": 2
}
