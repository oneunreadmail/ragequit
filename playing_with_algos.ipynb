{
 "cells": [
  {
   "cell_type": "code",
   "execution_count": 14,
   "metadata": {
    "collapsed": true,
    "deletable": true,
    "editable": true
   },
   "outputs": [],
   "source": [
    "%matplotlib inline\n",
    "import math\n",
    "import pandas as pd\n",
    "import numpy as np\n",
    "import seaborn as sns\n",
    "import matplotlib.pyplot as plt\n",
    "from sklearn.cross_validation import train_test_split\n",
    "import xgboost as xgb"
   ]
  },
  {
   "cell_type": "code",
   "execution_count": 82,
   "metadata": {
    "collapsed": true,
    "deletable": true,
    "editable": true
   },
   "outputs": [],
   "source": [
    "xytte_from_file = pd.read_csv(\"data/xytte.csv\")"
   ]
  },
  {
   "cell_type": "code",
   "execution_count": 83,
   "metadata": {
    "collapsed": false,
    "deletable": true,
    "editable": true
   },
   "outputs": [],
   "source": [
    "params_orig = [\n",
    "     'maxPlayerLevel',\n",
    "     'numberOfAttemptedLevels',\n",
    "     'attemptsOnTheHighestLevel',\n",
    "     'totalNumOfAttempts',\n",
    "     'averageNumOfTurnsPerCompletedLevel',\n",
    "     'numberOfBoostersUsed',\n",
    "     'fractionOfUsefullBoosters',\n",
    "     'totalScore',\n",
    "     'totalBonusScore',\n",
    "     'totalStarsCount',\n",
    "     'numberOfDaysActuallyPlayed',\n",
    "]\n",
    "     \n",
    "params_mod = [\n",
    "     #'attemptsOnTheHighestLevel_dvd',\n",
    "     'attemptsOnTheHighestLevel_ln',\n",
    "     'attemptsPerDay',\n",
    "     'averageNumOfTurnsPerCompletedLevel_dvd',\n",
    "     'maxPlayerLevel_ln',\n",
    "     'numberOfAttemptedLevels_dvd',\n",
    "     #'numberOfBoostersUsed_dvd',\n",
    "     'numberOfBoostersUsed_dvd_ln',\n",
    "     #'numberOfBoostersUsed_ln',\n",
    "     'numberOfDaysActuallyPlayed_ln',\n",
    "     'totalBonusScore_dvd',\n",
    "     'totalNumOfAttempts_ln',\n",
    "     #'totalScore_ln',\n",
    "     'totalScore_ln_dvd',\n",
    "     #'totalStarsCount_dvd',\n",
    "     'totalStarsCount_dvd_ln',\n",
    "     #'totalStarsCount_ln',\n",
    "]\n",
    "\n",
    "params_bool = [\n",
    "     'allAttemptsOnTheHighestLevel',\n",
    "     'attLevelsMoreThanMaxLevel',\n",
    "     'doReturnOnLowerLevels',\n",
    "     'zeroTotalScore',\n",
    "     'zeroTurnsPerCompletedLevel'\n",
    "]\n",
    "\n",
    "params_mod_norm = [\n",
    "     'attemptsOnTheHighestLevel_dvd_norm',\n",
    "     #'attemptsOnTheHighestLevel_ln_norm',\n",
    "     #'attemptsOnTheHighestLevel_norm',\n",
    "     'attemptsPerDay_norm',\n",
    "     'averageNumOfTurnsPerCompletedLevel_dvd_norm',\n",
    "     #'averageNumOfTurnsPerCompletedLevel_norm',\n",
    "     'fractionOfUsefullBoosters_norm',\n",
    "     'maxPlayerLevel_ln_norm',\n",
    "     #'maxPlayerLevel_norm',\n",
    "     'numberOfAttemptedLevels_dvd_norm',\n",
    "     #'numberOfAttemptedLevels_norm',\n",
    "     'numberOfBoostersUsed_dvd_ln_norm',\n",
    "     #'numberOfBoostersUsed_dvd_norm',\n",
    "     #'numberOfBoostersUsed_ln_norm',\n",
    "     #'numberOfBoostersUsed_norm',\n",
    "     'numberOfDaysActuallyPlayed_ln_norm',\n",
    "     #'numberOfDaysActuallyPlayed_norm',\n",
    "     'totalBonusScore_dvd_norm',\n",
    "     #'totalBonusScore_norm',\n",
    "     'totalNumOfAttempts_ln_norm',\n",
    "     #'totalNumOfAttempts_norm',\n",
    "     'totalScore_ln_dvd_norm',\n",
    "     #'totalScore_ln_norm',\n",
    "     #'totalScore_norm',\n",
    "     'totalStarsCount_dvd_ln_norm',\n",
    "     #'totalStarsCount_dvd_norm',\n",
    "     'totalStarsCount_ln_norm',\n",
    "     #'totalStarsCount_norm',\n",
    "]\n",
    "\n",
    "params = params_orig + params_bool + [\"returned\"]\n",
    "\n",
    "xytte = xytte_from_file[params]"
   ]
  },
  {
   "cell_type": "code",
   "execution_count": 84,
   "metadata": {
    "collapsed": false,
    "deletable": true,
    "editable": true
   },
   "outputs": [],
   "source": [
    "#xytte_test = xytte[math.isnan(xytte[\"returned\"])]\n",
    "xytte_test = xytte[xytte.returned == xytte.returned]\n",
    "xytte_train = xytte[xytte.returned != xytte.returned]\n",
    "xytte_test_x = xytte_test.drop(\"returned\", axis=1)\n",
    "xytte_train_x = xytte_train.drop(\"returned\", axis=1)\n",
    "xytte_train_y = xytte_test.returned"
   ]
  },
  {
   "cell_type": "code",
   "execution_count": 85,
   "metadata": {
    "collapsed": false,
    "deletable": true,
    "editable": true
   },
   "outputs": [
    {
     "name": "stdout",
     "output_type": "stream",
     "text": [
      "17702 7587\n"
     ]
    }
   ],
   "source": [
    "X_train, X_test, y_train, y_test = train_test_split(xytte_train_x, xytte_train_y, \n",
    "                                                    test_size = 0.3, random_state = 11)\n",
    "y_train = list(y_train)\n",
    "y_test = list(y_test)\n",
    "\n",
    "N_train, _ = X_train.shape \n",
    "N_test,  _ = X_test.shape \n",
    "print(N_train, N_test)"
   ]
  },
  {
   "cell_type": "code",
   "execution_count": 86,
   "metadata": {
    "collapsed": false,
    "deletable": true,
    "editable": true
   },
   "outputs": [
    {
     "name": "stdout",
     "output_type": "stream",
     "text": [
      "0.108179866682 0.376037959668\n",
      "0.107332504802 0.37616976407\n",
      "0.10727601401 0.381837353368\n",
      "0.0695966557451 0.35521286411\n",
      "0.0695966557451 0.345459338342\n",
      "0.0692012202011 0.359562409384\n",
      "0.0505592588408 0.339000922631\n",
      "0.0504462772568 0.335310399367\n",
      "0.0510111851768 0.334914986161\n"
     ]
    }
   ],
   "source": [
    "from sklearn import ensemble\n",
    "estimators_list = [3, 7, 15]\n",
    "features_list = [3, 5, 7]\n",
    "for estimators in estimators_list:\n",
    "    for features in features_list:\n",
    "        rf = ensemble.RandomForestClassifier(n_estimators=estimators, random_state=35, max_features=features)\n",
    "        rf.fit(X_train, y_train)\n",
    "        err_train = np.mean(y_train != rf.predict(X_train))\n",
    "        err_test  = np.mean(y_test  != rf.predict(X_test))\n",
    "        print(err_train, err_test)"
   ]
  },
  {
   "cell_type": "markdown",
   "metadata": {},
   "source": []
  },
  {
   "cell_type": "raw",
   "metadata": {},
   "source": []
  },
  {
   "cell_type": "code",
   "execution_count": 59,
   "metadata": {
    "collapsed": false,
    "deletable": true,
    "editable": true
   },
   "outputs": [
    {
     "name": "stdout",
     "output_type": "stream",
     "text": [
      "Feature importances:\n",
      " 1. feature 'totalBonusScore_dvd_norm' (0.0760)\n",
      " 2. feature 'totalScore_ln_dvd_norm' (0.0731)\n",
      " 3. feature 'totalScore_ln_norm' (0.0728)\n",
      " 4. feature 'totalScore_norm' (0.0711)\n",
      " 5. feature 'averageNumOfTurnsPerCompletedLevel_dvd_norm' (0.0660)\n",
      " 6. feature 'averageNumOfTurnsPerCompletedLevel_norm' (0.0651)\n",
      " 7. feature 'totalStarsCount_dvd_norm' (0.0432)\n",
      " 8. feature 'totalStarsCount_dvd_ln_norm' (0.0428)\n",
      " 9. feature 'totalBonusScore_norm' (0.0401)\n",
      "10. feature 'attemptsPerDay_norm' (0.0394)\n",
      "11. feature 'attemptsOnTheHighestLevel_dvd_norm' (0.0389)\n",
      "12. feature 'numberOfBoostersUsed_dvd_ln_norm' (0.0305)\n",
      "13. feature 'totalNumOfAttempts_ln_norm' (0.0303)\n",
      "14. feature 'totalNumOfAttempts_norm' (0.0300)\n",
      "15. feature 'numberOfBoostersUsed_dvd_norm' (0.0290)\n",
      "16. feature 'totalStarsCount_ln_norm' (0.0276)\n",
      "17. feature 'totalStarsCount_norm' (0.0260)\n",
      "18. feature 'fractionOfUsefullBoosters_norm' (0.0255)\n",
      "19. feature 'maxPlayerLevel_norm' (0.0200)\n",
      "20. feature 'maxPlayerLevel_ln_norm' (0.0184)\n",
      "21. feature 'attemptsOnTheHighestLevel_ln_norm' (0.0182)\n",
      "22. feature 'attemptsOnTheHighestLevel_norm' (0.0178)\n",
      "23. feature 'numberOfBoostersUsed_ln_norm' (0.0177)\n",
      "24. feature 'numberOfBoostersUsed_norm' (0.0170)\n",
      "25. feature 'numberOfAttemptedLevels_norm' (0.0142)\n",
      "26. feature 'numberOfDaysActuallyPlayed_ln_norm' (0.0141)\n",
      "27. feature 'numberOfDaysActuallyPlayed_norm' (0.0138)\n",
      "28. feature 'numberOfAttemptedLevels_dvd_norm' (0.0132)\n",
      "29. feature 'doReturnOnLowerLevels' (0.0061)\n",
      "30. feature 'attLevelsMoreThanMaxLevel' (0.0017)\n",
      "31. feature 'allAttemptsOnTheHighestLevel' (0.0003)\n",
      "32. feature 'zeroTotalScore' (0.0001)\n",
      "33. feature 'zeroTurnsPerCompletedLevel' (0.0001)\n"
     ]
    }
   ],
   "source": [
    "importances = rf.feature_importances_\n",
    "indices = np.argsort(importances)[::-1]\n",
    "\n",
    "print(\"Feature importances:\")\n",
    "for f, idx in enumerate(indices):\n",
    "    print(\"{:2d}. feature '{:5s}' ({:.4f})\".format(f + 1, params[idx], importances[idx]))"
   ]
  },
  {
   "cell_type": "code",
   "execution_count": 87,
   "metadata": {
    "collapsed": false
   },
   "outputs": [
    {
     "name": "stdout",
     "output_type": "stream",
     "text": [
      "0.285956389109 0.286147357322\n"
     ]
    }
   ],
   "source": [
    "from sklearn import ensemble\n",
    "gbt = ensemble.GradientBoostingClassifier(n_estimators=100, random_state=11)\n",
    "gbt.fit(X_train, y_train)\n",
    "\n",
    "err_train = np.mean(y_train != gbt.predict(X_train))\n",
    "err_test = np.mean(y_test != gbt.predict(X_test))\n",
    "print(err_train, err_test)"
   ]
  },
  {
   "cell_type": "code",
   "execution_count": 90,
   "metadata": {
    "collapsed": false
   },
   "outputs": [
    {
     "name": "stdout",
     "output_type": "stream",
     "text": [
      "Accuracy: 71.36%\n"
     ]
    }
   ],
   "source": [
    "import numpy\n",
    "import xgboost\n",
    "from sklearn import model_selection\n",
    "from sklearn.metrics import accuracy_score, log_loss\n",
    "\n",
    "model = xgboost.XGBClassifier()\n",
    "model.fit(X_train, y_train)\n",
    "\n",
    "y_pred = model.predict(X_test)\n",
    "predictions = [round(value) for value in y_pred]\n",
    "\n",
    "accuracy = accuracy_score(y_test, predictions)\n",
    "print(\"Accuracy: %.2f%%\" % (accuracy * 100.0))\n",
    "\n",
    "#log_loss(y_test_1D, predictions, eps=1e-15)"
   ]
  },
  {
   "cell_type": "code",
   "execution_count": null,
   "metadata": {
    "collapsed": true
   },
   "outputs": [],
   "source": []
  }
 ],
 "metadata": {
  "kernelspec": {
   "display_name": "Python 3",
   "language": "python",
   "name": "python3"
  },
  "language_info": {
   "codemirror_mode": {
    "name": "ipython",
    "version": 3
   },
   "file_extension": ".py",
   "mimetype": "text/x-python",
   "name": "python",
   "nbconvert_exporter": "python",
   "pygments_lexer": "ipython3",
   "version": "3.5.2"
  }
 },
 "nbformat": 4,
 "nbformat_minor": 2
}
