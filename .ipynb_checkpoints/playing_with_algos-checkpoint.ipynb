{
 "cells": [
  {
   "cell_type": "code",
   "execution_count": 14,
   "metadata": {
    "collapsed": true,
    "deletable": true,
    "editable": true
   },
   "outputs": [],
   "source": [
    "%matplotlib inline\n",
    "import math\n",
    "import pandas as pd\n",
    "import numpy as np\n",
    "import seaborn as sns\n",
    "import matplotlib.pyplot as plt\n",
    "from sklearn.cross_validation import train_test_split\n",
    "import xgboost as xgb"
   ]
  },
  {
   "cell_type": "code",
   "execution_count": 15,
   "metadata": {
    "collapsed": true,
    "deletable": true,
    "editable": true
   },
   "outputs": [],
   "source": [
    "xytte = pd.read_csv(\"data/xytte.csv\")"
   ]
  },
  {
   "cell_type": "code",
   "execution_count": 45,
   "metadata": {
    "collapsed": false,
    "deletable": true,
    "editable": true
   },
   "outputs": [],
   "source": [
    "params = [\n",
    "     'maxPlayerLevel',\n",
    "     'numberOfAttemptedLevels',\n",
    "     'attemptsOnTheHighestLevel',\n",
    "     'totalNumOfAttempts',\n",
    "     'averageNumOfTurnsPerCompletedLevel',\n",
    "     'doReturnOnLowerLevels',\n",
    "     'numberOfBoostersUsed',\n",
    "     'fractionOfUsefullBoosters',\n",
    "     'totalScore',\n",
    "     'totalBonusScore',\n",
    "     'totalStarsCount',\n",
    "     'numberOfDaysActuallyPlayed',\n",
    "     'returned',\n",
    "     'maxPlayerLevel_ln',\n",
    "     'numberOfAttemptedLevels_dvd',\n",
    "     'attLevelsMoreThanMaxLevel',\n",
    "     'attemptsOnTheHighestLevel_ln',\n",
    "     'totalNumOfAttempts_ln',\n",
    "     'attemptsOnTheHighestLevel_dvd',\n",
    "     'allAttemptsOnTheHighestLevel',\n",
    "     'zeroTurnsPerCompletedLevel',\n",
    "     'averageNumOfTurnsPerCompletedLevel_dvd',\n",
    "     'numberOfBoostersUsed_ln',\n",
    "     'numberOfBoostersUsed_dvd',\n",
    "     'numberOfBoostersUsed_dvd_ln',\n",
    "     'totalScore_ln',\n",
    "     'totalScore_ln_dvd',\n",
    "     'zeroTotalScore',\n",
    "     'totalBonusScore_dvd',\n",
    "     'totalStarsCount_dvd',\n",
    "     'totalStarsCount_ln',\n",
    "     'totalStarsCount_dvd_ln',\n",
    "     'numberOfDaysActuallyPlayed_ln',\n",
    "     'attemptsPerDay',\n",
    "     'maxPlayerLevel_norm',\n",
    "     'numberOfAttemptedLevels_norm',\n",
    "     'attemptsOnTheHighestLevel_norm',\n",
    "     'totalNumOfAttempts_norm',\n",
    "     'averageNumOfTurnsPerCompletedLevel_norm',\n",
    "     'numberOfBoostersUsed_norm',\n",
    "     'fractionOfUsefullBoosters_norm',\n",
    "     'totalScore_norm',\n",
    "     'totalBonusScore_norm',\n",
    "     'totalStarsCount_norm',\n",
    "     'numberOfDaysActuallyPlayed_norm',\n",
    "     'maxPlayerLevel_ln_norm',\n",
    "     'numberOfAttemptedLevels_dvd_norm',\n",
    "     'attemptsOnTheHighestLevel_ln_norm',\n",
    "     'totalNumOfAttempts_ln_norm',\n",
    "     'attemptsOnTheHighestLevel_dvd_norm',\n",
    "     'averageNumOfTurnsPerCompletedLevel_dvd_norm',\n",
    "     'numberOfBoostersUsed_ln_norm',\n",
    "     'numberOfBoostersUsed_dvd_norm',\n",
    "     'numberOfBoostersUsed_dvd_ln_norm',\n",
    "     'totalScore_ln_norm',\n",
    "     'totalScore_ln_dvd_norm',\n",
    "     'totalBonusScore_dvd_norm',\n",
    "     'totalStarsCount_dvd_norm',\n",
    "     'totalStarsCount_ln_norm',\n",
    "     'totalStarsCount_dvd_ln_norm',\n",
    "     'numberOfDaysActuallyPlayed_ln_norm',\n",
    "     'attemptsPerDay_norm']\n",
    "xytte = xytte[params]"
   ]
  },
  {
   "cell_type": "code",
   "execution_count": 46,
   "metadata": {
    "collapsed": false,
    "deletable": true,
    "editable": true
   },
   "outputs": [],
   "source": [
    "#xytte_test = xytte[math.isnan(xytte[\"returned\"])]\n",
    "xytte_test = xytte[xytte.returned == xytte.returned]\n",
    "xytte_train = xytte[xytte.returned != xytte.returned]\n",
    "xytte_test_x = xytte_test.drop(\"returned\", axis=1)\n",
    "xytte_train_x = xytte_train.drop(\"returned\", axis=1)\n",
    "xytte_train_y = xytte_test.returned"
   ]
  },
  {
   "cell_type": "code",
   "execution_count": 47,
   "metadata": {
    "collapsed": false,
    "deletable": true,
    "editable": true
   },
   "outputs": [
    {
     "name": "stdout",
     "output_type": "stream",
     "text": [
      "17702 7587\n"
     ]
    }
   ],
   "source": [
    "X_train, X_test, y_train, y_test = train_test_split(xytte_train_x, xytte_train_y, \n",
    "                                                    test_size = 0.3, random_state = 11)\n",
    "y_train = list(y_train)\n",
    "y_test = list(y_test)\n",
    "\n",
    "N_train, _ = X_train.shape \n",
    "N_test,  _ = X_test.shape \n",
    "print(N_train, N_test)"
   ]
  },
  {
   "cell_type": "code",
   "execution_count": 48,
   "metadata": {
    "collapsed": false,
    "deletable": true,
    "editable": true
   },
   "outputs": [
    {
     "name": "stdout",
     "output_type": "stream",
     "text": [
      "0.0498248785448 0.331751680506\n"
     ]
    }
   ],
   "source": [
    "from sklearn import ensemble\n",
    "rf = ensemble.RandomForestClassifier(n_estimators=15, random_state=35, max_features=5)\n",
    "rf.fit(X_train, y_train)\n",
    "err_train = np.mean(y_train != rf.predict(X_train))\n",
    "err_test  = np.mean(y_test  != rf.predict(X_test))\n",
    "print(err_train, err_test)"
   ]
  },
  {
   "cell_type": "markdown",
   "metadata": {},
   "source": []
  },
  {
   "cell_type": "raw",
   "metadata": {},
   "source": []
  },
  {
   "cell_type": "code",
   "execution_count": 49,
   "metadata": {
    "collapsed": false,
    "deletable": true,
    "editable": true
   },
   "outputs": [
    {
     "name": "stdout",
     "output_type": "stream",
     "text": [
      "Feature importances:\n"
     ]
    },
    {
     "ename": "NameError",
     "evalue": "name 'feature_names' is not defined",
     "output_type": "error",
     "traceback": [
      "\u001b[0;31m---------------------------------------------------------------------------\u001b[0m",
      "\u001b[0;31mNameError\u001b[0m                                 Traceback (most recent call last)",
      "\u001b[0;32m<ipython-input-49-370b4a0032d7>\u001b[0m in \u001b[0;36m<module>\u001b[0;34m()\u001b[0m\n\u001b[1;32m      4\u001b[0m \u001b[0mprint\u001b[0m\u001b[0;34m(\u001b[0m\u001b[0;34m\"Feature importances:\"\u001b[0m\u001b[0;34m)\u001b[0m\u001b[0;34m\u001b[0m\u001b[0m\n\u001b[1;32m      5\u001b[0m \u001b[0;32mfor\u001b[0m \u001b[0mf\u001b[0m\u001b[0;34m,\u001b[0m \u001b[0midx\u001b[0m \u001b[0;32min\u001b[0m \u001b[0menumerate\u001b[0m\u001b[0;34m(\u001b[0m\u001b[0mindices\u001b[0m\u001b[0;34m)\u001b[0m\u001b[0;34m:\u001b[0m\u001b[0;34m\u001b[0m\u001b[0m\n\u001b[0;32m----> 6\u001b[0;31m     \u001b[0mprint\u001b[0m\u001b[0;34m(\u001b[0m\u001b[0;34m\"{:2d}. feature '{:5s}' ({:.4f})\"\u001b[0m\u001b[0;34m.\u001b[0m\u001b[0mformat\u001b[0m\u001b[0;34m(\u001b[0m\u001b[0mf\u001b[0m \u001b[0;34m+\u001b[0m \u001b[0;36m1\u001b[0m\u001b[0;34m,\u001b[0m \u001b[0mfeature_names\u001b[0m\u001b[0;34m[\u001b[0m\u001b[0midx\u001b[0m\u001b[0;34m]\u001b[0m\u001b[0;34m,\u001b[0m \u001b[0mimportances\u001b[0m\u001b[0;34m[\u001b[0m\u001b[0midx\u001b[0m\u001b[0;34m]\u001b[0m\u001b[0;34m)\u001b[0m\u001b[0;34m)\u001b[0m\u001b[0;34m\u001b[0m\u001b[0m\n\u001b[0m",
      "\u001b[0;31mNameError\u001b[0m: name 'feature_names' is not defined"
     ]
    }
   ],
   "source": [
    "importances = rf.feature_importances_\n",
    "indices = np.argsort(importances)[::-1]\n",
    "\n",
    "print(\"Feature importances:\")\n",
    "for f, idx in enumerate(indices):\n",
    "    print(\"{:2d}. feature '{:5s}' ({:.4f})\".format(f + 1, feature_names[idx], importances[idx]))"
   ]
  },
  {
   "cell_type": "code",
   "execution_count": null,
   "metadata": {
    "collapsed": true
   },
   "outputs": [],
   "source": []
  }
 ],
 "metadata": {
  "kernelspec": {
   "display_name": "Python 3",
   "language": "python",
   "name": "python3"
  },
  "language_info": {
   "codemirror_mode": {
    "name": "ipython",
    "version": 3
   },
   "file_extension": ".py",
   "mimetype": "text/x-python",
   "name": "python",
   "nbconvert_exporter": "python",
   "pygments_lexer": "ipython3",
   "version": "3.5.2"
  }
 },
 "nbformat": 4,
 "nbformat_minor": 2
}
